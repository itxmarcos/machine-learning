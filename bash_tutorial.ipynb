{
 "cells": [
  {
   "cell_type": "markdown",
   "id": "16c4d25c",
   "metadata": {},
   "source": [
    "https://www.freecodecamp.org/news/python-for-system-administration-tutorial/"
   ]
  },
  {
   "cell_type": "code",
   "execution_count": 1,
   "id": "8dbcc3fe",
   "metadata": {},
   "outputs": [],
   "source": [
    "import os\n",
    "import subprocess\n",
    "import shutil\n",
    "from pprint import pprint"
   ]
  },
  {
   "cell_type": "code",
   "execution_count": 2,
   "id": "6ca2deeb",
   "metadata": {},
   "outputs": [
    {
     "name": "stdout",
     "output_type": "stream",
     "text": [
      "/home/mcaballero\n"
     ]
    }
   ],
   "source": [
    "# Get your current working directly\n",
    "# This returns a string\n",
    "my_cwd = os.getcwd()\n",
    "print(my_cwd)"
   ]
  },
  {
   "cell_type": "code",
   "execution_count": 3,
   "id": "9caeb0ab",
   "metadata": {},
   "outputs": [
    {
     "name": "stdout",
     "output_type": "stream",
     "text": [
      "bash_tutorial.ipynb\n",
      ".landscape\n",
      ".conda\n",
      ".cache\n",
      ".bash_history\n",
      ".motd_shown\n",
      ".config\n",
      ".profile\n",
      "tutorial.py\n",
      ".jupyter\n",
      ".ipynb_checkpoints\n",
      ".bash_logout\n",
      ".bashrc\n",
      "test.py\n",
      "Miniconda3-py39_4.11.0-Linux-x86_64.sh\n",
      ".local\n",
      ".vscode-server\n",
      ".ipython\n",
      "miniconda3\n"
     ]
    }
   ],
   "source": [
    "# List the contents of a directory\n",
    "# This returns a list\n",
    "dir_list = os.listdir()\n",
    "for item in dir_list:\n",
    "    print(item)"
   ]
  },
  {
   "cell_type": "code",
   "execution_count": 4,
   "id": "dcfbe19d",
   "metadata": {},
   "outputs": [
    {
     "data": {
      "text/plain": [
       "'/home/mcaballero/some-file'"
      ]
     },
     "execution_count": 4,
     "metadata": {},
     "output_type": "execute_result"
    }
   ],
   "source": [
    "# Get the Absolute Path name of a file (file + current working dir)\n",
    "os.path.abspath('some-file')"
   ]
  },
  {
   "cell_type": "code",
   "execution_count": 5,
   "id": "8c5c39ce",
   "metadata": {},
   "outputs": [
    {
     "data": {
      "text/plain": [
       "'file'"
      ]
     },
     "execution_count": 5,
     "metadata": {},
     "output_type": "execute_result"
    }
   ],
   "source": [
    "#Get the basename - returns file\n",
    "os.path.basename('/path/to/file')"
   ]
  },
  {
   "cell_type": "code",
   "execution_count": 6,
   "id": "2f38c50a",
   "metadata": {},
   "outputs": [
    {
     "data": {
      "text/plain": [
       "('/home', 'mcaballero')"
      ]
     },
     "execution_count": 6,
     "metadata": {},
     "output_type": "execute_result"
    }
   ],
   "source": [
    "# Split a directory path - platform independent\n",
    "os.path.split(os.getcwd())\n",
    "# Out[17]: ('/Users', 'jillian')"
   ]
  },
  {
   "cell_type": "code",
   "execution_count": 7,
   "id": "b0d45199",
   "metadata": {},
   "outputs": [
    {
     "data": {
      "text/plain": [
       "False"
      ]
     },
     "execution_count": 7,
     "metadata": {},
     "output_type": "execute_result"
    }
   ],
   "source": [
    "# Check if a path exists\n",
    "os.path.exists('/path/on/filesystem')"
   ]
  },
  {
   "cell_type": "code",
   "execution_count": 9,
   "id": "a55f692d",
   "metadata": {},
   "outputs": [
    {
     "data": {
      "text/plain": [
       "False"
      ]
     },
     "execution_count": 9,
     "metadata": {},
     "output_type": "execute_result"
    }
   ],
   "source": [
    "# Check if a path is a symlink\n",
    "os.path.islink('./')"
   ]
  },
  {
   "cell_type": "code",
   "execution_count": 22,
   "id": "d67ce637",
   "metadata": {},
   "outputs": [
    {
     "data": {
      "text/plain": [
       "'dest'"
      ]
     },
     "execution_count": 22,
     "metadata": {},
     "output_type": "execute_result"
    }
   ],
   "source": [
    "#MOVE FILES AND DIRECTORIES AROUND\n",
    "# Copy a directory\n",
    "# cp -rf\n",
    "shutil.copytree('src', 'dest')"
   ]
  },
  {
   "cell_type": "code",
   "execution_count": 21,
   "id": "5256e27e",
   "metadata": {},
   "outputs": [
    {
     "data": {
      "text/plain": [
       "'file2'"
      ]
     },
     "execution_count": 21,
     "metadata": {},
     "output_type": "execute_result"
    }
   ],
   "source": [
    "# Copy a file\n",
    "# cp -rf\n",
    "shutil.copyfile('file1', 'file2')"
   ]
  },
  {
   "cell_type": "code",
   "execution_count": 23,
   "id": "e6e415d2",
   "metadata": {},
   "outputs": [
    {
     "data": {
      "text/plain": [
       "'dest/src'"
      ]
     },
     "execution_count": 23,
     "metadata": {},
     "output_type": "execute_result"
    }
   ],
   "source": [
    "# Move a directory\n",
    "# mv\n",
    "shutil.move('src', 'dest')"
   ]
  },
  {
   "cell_type": "code",
   "execution_count": 24,
   "id": "4d607596",
   "metadata": {},
   "outputs": [
    {
     "name": "stdout",
     "output_type": "stream",
     "text": [
      "b\"'hello'\\n\"\n",
      "b''\n"
     ]
    }
   ],
   "source": [
    "# Run an arbitrary system command\n",
    "command = \"echo 'hello'\"\n",
    "result = subprocess.run(command.split(' '), stdout=subprocess.PIPE, stderr=subprocess.PIPE)\n",
    "#Print the stdout and stderr\n",
    "print(result.stdout)\n",
    "print(result.stderr)"
   ]
  },
  {
   "cell_type": "code",
   "execution_count": 25,
   "id": "a178449c",
   "metadata": {},
   "outputs": [],
   "source": [
    "# Write to a file (and create it if it doesn't exist)\n",
    "# echo \"hello\" > hello.txt\n",
    "f= open(\"hello.txt\",\"w+\")\n",
    "f.write(\"hello!\")\n",
    "f.close()"
   ]
  },
  {
   "cell_type": "code",
   "execution_count": 26,
   "id": "2ccc9439",
   "metadata": {},
   "outputs": [],
   "source": [
    "# Append to a file\n",
    "# echo \"hello\" >> hello.txt\n",
    "f = open(\"hello.txt\", \"a+\")\n",
    "f.write(\"hello again!\")\n",
    "f.close()"
   ]
  },
  {
   "cell_type": "code",
   "execution_count": 27,
   "id": "79461202",
   "metadata": {},
   "outputs": [],
   "source": [
    "def test_system_command():\n",
    "    \"\"\"Test the exit code of a system command\"\"\"\n",
    "    command = \"echo 'hello'\"\n",
    "    result = subprocess.run(command.split(' '), stdout=subprocess.PIPE)\n",
    "    assert result.returncode == 0"
   ]
  },
  {
   "cell_type": "code",
   "execution_count": null,
   "id": "ac3998a3",
   "metadata": {},
   "outputs": [],
   "source": []
  }
 ],
 "metadata": {
  "kernelspec": {
   "display_name": "Python 3 (ipykernel)",
   "language": "python",
   "name": "python3"
  },
  "language_info": {
   "codemirror_mode": {
    "name": "ipython",
    "version": 3
   },
   "file_extension": ".py",
   "mimetype": "text/x-python",
   "name": "python",
   "nbconvert_exporter": "python",
   "pygments_lexer": "ipython3",
   "version": "3.9.7"
  }
 },
 "nbformat": 4,
 "nbformat_minor": 5
}
